{
 "cells": [
  {
   "cell_type": "code",
   "execution_count": 11,
   "metadata": {},
   "outputs": [
    {
     "name": "stdout",
     "output_type": "stream",
     "text": [
      "Requirement already satisfied: Faker in c:\\users\\egor\\appdata\\local\\programs\\python\\python39\\lib\\site-packages (12.0.0)\n"
     ]
    },
    {
     "name": "stderr",
     "output_type": "stream",
     "text": [
      "WARNING: You are using pip version 21.2.2; however, version 22.0.3 is available.\n",
      "You should consider upgrading via the 'C:\\Users\\Egor\\AppData\\Local\\Programs\\Python\\Python39\\python.exe -m pip install --upgrade pip' command.\n"
     ]
    },
    {
     "name": "stdout",
     "output_type": "stream",
     "text": [
      "Requirement already satisfied: python-dateutil>=2.4 in c:\\users\\egor\\appdata\\local\\programs\\python\\python39\\lib\\site-packages (from Faker) (2.8.1)\n",
      "Requirement already satisfied: six>=1.5 in c:\\users\\egor\\appdata\\local\\programs\\python\\python39\\lib\\site-packages (from python-dateutil>=2.4->Faker) (1.15.0)\n"
     ]
    }
   ],
   "source": [
    "!python -m pip install Faker"
   ]
  },
  {
   "cell_type": "code",
   "execution_count": 12,
   "metadata": {},
   "outputs": [],
   "source": [
    "from numpy.random import choice\n",
    "import random\n",
    "from faker import Faker\n",
    "from faker.providers import phone_number\n",
    "import json"
   ]
  },
  {
   "cell_type": "markdown",
   "metadata": {},
   "source": [
    "# Генерируем данные"
   ]
  },
  {
   "cell_type": "code",
   "execution_count": 13,
   "metadata": {},
   "outputs": [],
   "source": [
    "fake = Faker()\n",
    "fake.add_provider(phone_number)\n",
    "pnumbers = [fake.phone_number() for _ in range(100)]\n",
    "calls = [ {\"caller\": random.choice(pnumbers), \"recipient\": random.choice(pnumbers), \"duration_s\": random.randint(5, 600)} for _ in range(10**3) ]\n",
    "suspects = choice(pnumbers, size=10, replace=False)\n",
    "with open(\"numbers.txt\", \"w+\") as file:\n",
    "    file.writelines([f'{str(number)}\\n' for number in pnumbers])\n",
    "with open(\"suspects.txt\", \"w+\") as file:\n",
    "    file.writelines([f'{str(number)}\\n' for number in suspects])\n",
    "with open(\"calls.txt\", \"w+\") as file:\n",
    "    file.writelines([f'caller:{call.get(\"caller\")}|recipient:{call.get(\"recipient\")}|duration_s:{call.get(\"duration_s\")}\\n' for call in calls])"
   ]
  },
  {
   "cell_type": "markdown",
   "metadata": {},
   "source": [
    "# Приводим номера к стандартному виду (10 цифр без знаков)"
   ]
  },
  {
   "cell_type": "code",
   "execution_count": 14,
   "metadata": {},
   "outputs": [],
   "source": [
    "CHARACTERS_TO_REMOVE = '().-+'\n",
    "\n",
    "def raw_phone_to_standartized(phone_number):\n",
    "    \"\"\"\n",
    "    Converts raw phone string to standartized one. \n",
    "    Phone string considered standartized if and only if it contains only 10 numbers.\n",
    "    If could not convert right - crashes.\n",
    "    \"\"\"\n",
    "    for char in CHARACTERS_TO_REMOVE:\n",
    "            phone_number = phone_number.replace(char, '')\n",
    "    phone_number = phone_number.split('x')[0]\n",
    "    phone_number = phone_number[-10:]\n",
    "    int(phone_number)\n",
    "    assert len(phone_number) == 10\n",
    "    return phone_number\n",
    "\n",
    "with open('calls.txt', 'r') as f:\n",
    "    calls = f.readlines()\n",
    "with open('suspects.txt', 'r') as f:\n",
    "    suspects = f.readlines()\n",
    "with open('new_calls.txt', 'w') as f:\n",
    "    for call in calls:\n",
    "        new_call = call\n",
    "        caller, recipient, duration_s = new_call.split('|')\n",
    "        caller = 'caller:' + raw_phone_to_standartized(caller.split(':')[1])\n",
    "        recipient = 'recipient:' + raw_phone_to_standartized(recipient.split(':')[1])\n",
    "        new_call = caller + '|' + recipient + '|' + duration_s\n",
    "        f.write(new_call)\n",
    "with open('new_suspects.txt', 'w') as f:\n",
    "    for suspect in suspects:\n",
    "        new_suspect = suspect\n",
    "        new_suspect = new_suspect.split('\\n')[0]\n",
    "        new_suspect = raw_phone_to_standartized(new_suspect)\n",
    "        f.write(new_suspect)\n",
    "        f.write('\\n')\n",
    "with open('new_calls.txt', 'r') as f:\n",
    "    calls = f.readlines()\n",
    "with open('new_suspects.txt', 'r') as f:\n",
    "    suspects = f.readlines()\n"
   ]
  },
  {
   "cell_type": "markdown",
   "metadata": {},
   "source": [
    "# Итеративно ищем новых подозреваемых (делал 3 и более звонков подозреваемым из предыдущего круга)"
   ]
  },
  {
   "cell_type": "code",
   "execution_count": 15,
   "metadata": {},
   "outputs": [],
   "source": [
    "N = 5\n",
    "\n",
    "with open('new_suspects.txt', 'w') as f:\n",
    "    current_suspects = suspects.copy()  # саспекты из предыдущего круга\n",
    "    f.writelines(current_suspects)\n",
    "    f.write('\\n')\n",
    "    all_suspects = set(suspects)  # все саспекты\n",
    "    proofs = dict()\n",
    "    for _ in range(N):\n",
    "        new_suspects = set()  # саспекты из текущего круга\n",
    "        for call in calls:\n",
    "            caller, recipient, duration_s = call.split('|')\n",
    "            caller = caller.split(':')[1]\n",
    "            recipient = recipient.split(':')[1]\n",
    "            duration_s = duration_s.split(':')[1]\n",
    "            if recipient + '\\n' in current_suspects and int(duration_s) > 120:\n",
    "                try:\n",
    "                    proofs[caller].append({'recipient': recipient, 'duration_s': int(duration_s)})\n",
    "                except  KeyError:\n",
    "                    proofs[caller] = [{'recipient': recipient, 'duration_s': int(duration_s)}]\n",
    "                if len(proofs[caller]) > 2:\n",
    "                    new_suspects.add(caller + '\\n')\n",
    "        f.writelines(new_suspects - all_suspects)\n",
    "        f.write('\\n')  # круги между собой отделяем пустой строкой\n",
    "        all_suspects = all_suspects | new_suspects\n",
    "        current_suspects = new_suspects.copy()\n",
    "    with open('proofs.json', 'w') as j_f:\n",
    "        j_f.write(json.dumps(proofs))\n",
    "\n"
   ]
  }
 ],
 "metadata": {
  "interpreter": {
   "hash": "dc1b47178b49675375206ecbbca2b4bf167406a9a4e14634ad251a3abff62a27"
  },
  "kernelspec": {
   "display_name": "Python 3.9.1 64-bit",
   "language": "python",
   "name": "python3"
  },
  "language_info": {
   "codemirror_mode": {
    "name": "ipython",
    "version": 3
   },
   "file_extension": ".py",
   "mimetype": "text/x-python",
   "name": "python",
   "nbconvert_exporter": "python",
   "pygments_lexer": "ipython3",
   "version": "3.9.1"
  },
  "orig_nbformat": 4
 },
 "nbformat": 4,
 "nbformat_minor": 2
}
