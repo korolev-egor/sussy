{
 "cells": [
  {
   "cell_type": "code",
   "execution_count": 21,
   "metadata": {},
   "outputs": [
    {
     "name": "stdout",
     "output_type": "stream",
     "text": [
      "Requirement already satisfied: Faker in c:\\users\\fluttershy\\appdata\\local\\programs\\python\\python39\\lib\\site-packages (12.0.0)\n",
      "Requirement already satisfied: python-dateutil>=2.4 in c:\\users\\fluttershy\\appdata\\local\\programs\\python\\python39\\lib\\site-packages (from Faker) (2.8.1)\n",
      "Requirement already satisfied: six>=1.5 in c:\\users\\fluttershy\\appdata\\local\\programs\\python\\python39\\lib\\site-packages (from python-dateutil>=2.4->Faker) (1.15.0)\n"
     ]
    }
   ],
   "source": [
    "!python -m pip install Faker"
   ]
  },
  {
   "cell_type": "code",
   "execution_count": 22,
   "metadata": {},
   "outputs": [],
   "source": [
    "from numpy.random import choice\n",
    "import random\n",
    "from faker import Faker\n",
    "from faker.providers import phone_number\n",
    "import json"
   ]
  },
  {
   "cell_type": "code",
   "execution_count": 23,
   "metadata": {},
   "outputs": [],
   "source": [
    "fake = Faker()\n",
    "fake.add_provider(phone_number)\n",
    "pnumbers = [fake.phone_number() for _ in range(100)]\n",
    "calls = [ {\"caller\": random.choice(pnumbers), \"recipient\": random.choice(pnumbers), \"duration_s\": random.randint(5, 600)} for _ in range(10**5) ]\n",
    "suspects = choice(pnumbers, size=10, replace=False)\n",
    "with open(\"numbers.txt\", \"w+\") as file:\n",
    "    file.writelines([f'{str(number)}\\n' for number in pnumbers])\n",
    "with open(\"suspects.txt\", \"w+\") as file:\n",
    "    file.writelines([f'{str(number)}\\n' for number in suspects])\n",
    "with open(\"calls.txt\", \"w+\") as file:\n",
    "    file.writelines([f'caller:{call.get(\"caller\")}|recipient:{call.get(\"recipient\")}|duration_s:{call.get(\"duration_s\")}\\n' for call in calls])"
   ]
  },
  {
   "cell_type": "code",
   "execution_count": 24,
   "metadata": {},
   "outputs": [],
   "source": [
    "with open('calls.txt', 'r') as f:\n",
    "    calls = f.readlines()\n",
    "with open('suspects.txt', 'r') as f:\n",
    "    suspects = f.readlines()\n",
    "characters_to_remove = '().-'\n",
    "with open('new_calls.txt', 'w') as f:\n",
    "    for call in calls:\n",
    "        new_call = call\n",
    "        for c in characters_to_remove:\n",
    "            new_call = new_call.replace(c, '')\n",
    "        new_call = new_call.split('|')\n",
    "        caller = new_call[0]\n",
    "        caller = caller.split(':')[1]\n",
    "        caller = caller.split('x')[0]\n",
    "        caller = caller[-10:]\n",
    "        int(caller)\n",
    "        assert len(caller) == 10\n",
    "        caller = 'caller:' + caller\n",
    "        recipient = new_call[1]\n",
    "        recipient = recipient.split(':')[1]\n",
    "        recipient = recipient.split('x')[0]\n",
    "        recipient = recipient[-10:]\n",
    "        int(recipient)\n",
    "        assert len(recipient) == 10\n",
    "        recipient = 'recipient:' + recipient\n",
    "        new_call = caller + '|' + recipient + '|' + new_call[2]\n",
    "        f.write(new_call)\n",
    "with open('new_suspects.txt', 'w') as f:\n",
    "    for sus in suspects:\n",
    "        new_sus = sus\n",
    "        for c in characters_to_remove:\n",
    "            new_sus = new_sus.replace(c, '')\n",
    "        new_sus = new_sus.split('x')[0]\n",
    "        new_sus = new_sus.split('\\n')[0]\n",
    "        new_sus = new_sus[-10:]\n",
    "        int(new_sus)\n",
    "        assert len(new_sus) == 10\n",
    "        f.write(new_sus)\n",
    "        f.write('\\n')\n",
    "with open('new_calls.txt', 'r') as f:\n",
    "    calls = f.readlines()\n",
    "with open('new_suspects.txt', 'r') as f:\n",
    "    suspects = f.readlines()\n"
   ]
  },
  {
   "cell_type": "code",
   "execution_count": 25,
   "metadata": {},
   "outputs": [],
   "source": [
    "N = 5\n",
    "\n",
    "with open('new_suspects.txt', 'w') as f:\n",
    "    current_suspects = suspects.copy()\n",
    "    base_suspects = set(suspects)\n",
    "    all_suspects = set(suspects)\n",
    "    proofs = dict()\n",
    "    for _ in range(N):\n",
    "        new_suspects = set()\n",
    "        for call in calls:\n",
    "            caller = call.split('|')[0].split(':')[1]\n",
    "            recipient = call.split('|')[1].split(':')[1]\n",
    "            duration_s = call.split('|')[2].split(':')[1]\n",
    "            if recipient + '\\n' in current_suspects and int(duration_s) > 120:\n",
    "                try:\n",
    "                    proofs[caller].append({'recipient': recipient, 'duration': int(duration_s)})\n",
    "                except  KeyError:\n",
    "                    proofs[caller] = [{'recipient': recipient, 'duration': int(duration_s)}]\n",
    "                if len(proofs[caller]) > 2:\n",
    "                    new_suspects.add(caller + '\\n')\n",
    "        f.writelines(new_suspects - all_suspects)\n",
    "        f.write('kek\\n')\n",
    "        all_suspects = all_suspects | new_suspects\n",
    "        current_suspects = new_suspects.copy()\n",
    "    with open('proofs.json', 'w') as j_f:\n",
    "        j_f.write(json.dumps(proofs))\n",
    "\n"
   ]
  }
 ],
 "metadata": {
  "interpreter": {
   "hash": "dc1b47178b49675375206ecbbca2b4bf167406a9a4e14634ad251a3abff62a27"
  },
  "kernelspec": {
   "display_name": "Python 3.9.1 64-bit",
   "language": "python",
   "name": "python3"
  },
  "language_info": {
   "codemirror_mode": {
    "name": "ipython",
    "version": 3
   },
   "file_extension": ".py",
   "mimetype": "text/x-python",
   "name": "python",
   "nbconvert_exporter": "python",
   "pygments_lexer": "ipython3",
   "version": "3.9.1"
  },
  "orig_nbformat": 4
 },
 "nbformat": 4,
 "nbformat_minor": 2
}
